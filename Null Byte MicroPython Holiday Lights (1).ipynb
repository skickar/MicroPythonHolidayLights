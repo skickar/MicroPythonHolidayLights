{
 "cells": [
  {
   "cell_type": "code",
   "execution_count": null,
   "metadata": {},
   "outputs": [],
   "source": [
    "# Connect to ESP8266 via serial\n",
    "\n",
    "%serialconnect to --port=/dev/cu.wchusbserial1440 --baud=115200"
   ]
  },
  {
   "cell_type": "code",
   "execution_count": null,
   "metadata": {},
   "outputs": [],
   "source": [
    "## If you want to connect to Wi-Fi\n",
    "import network\n",
    "\n",
    "## Set up station mode\n",
    "sta_if = network.WLAN(network.STA_IF)\n",
    "ap_if = network.WLAN(network.AP_IF)\n",
    "sta_if.active()\n",
    "ap_if.active()\n",
    "\n",
    "## Check if connected, then connect to the network\n",
    "ap_if.ifconfig()\n",
    "sta_if.active(True)\n",
    "sta_if.connect('<your ESSID>', '<your password>')\n",
    "\n",
    "## Verify you are connected and IP address\n",
    "sta_if.isconnected()\n",
    "sta_if.ifconfig()"
   ]
  },
  {
   "cell_type": "code",
   "execution_count": null,
   "metadata": {},
   "outputs": [],
   "source": [
    "## Import neopixels and create object, include the Pin number and Number of pixels\n",
    "\n",
    "## On the D1 Mini, the \"D4\" pin, located next to power and ground, is actually Pin 2. \n",
    "# You can see the pinout on the D1 mini for more info on finding the right pin to connect to\n",
    "\n",
    "\n",
    "import machine, neopixel, random, math, time, utime\n",
    "np = neopixel.NeoPixel(machine.Pin(2), 10)\n",
    "\n",
    "## Create a random function\n",
    "def randint(lower, upper):\n",
    "    gap = upper - lower\n",
    "    if gap == 0:\n",
    "        return lower\n",
    "    return (random.getrandbits(int(math.log(gap, 2)))% gap) + lower"
   ]
  },
  {
   "cell_type": "code",
   "execution_count": null,
   "metadata": {},
   "outputs": [],
   "source": [
    "## Set Individual Pixels a color\n",
    "\n",
    "np[0] = (255, 0, 0) # set to red, full brightness\n",
    "np[1] = (0, 128, 0) # set to green, half brightness\n",
    "np[2] = (0, 0, 64)  # set to blue, quarter brightness\n",
    "np[3] = (255, 0, 255) # set to purple, red blue full brightness\n",
    "np[4] = (0, 128, 0) # set to green, half brightness\n",
    "np[5] = (255, 255, 255)  # set to white, full brightness\n",
    "np[6] = (255, 128, 255)  # set to white, minimum brightness\n",
    "np[7] = (255, 64, 64)  # set to white, full brightness\n",
    "np[8] = (64, 64, 255)  # set to purple, full brightness\n",
    "np[9] = (128, 255, 128)  # set to teal, partial brightness\n",
    "np.write() # to write the colors we set"
   ]
  },
  {
   "cell_type": "code",
   "execution_count": null,
   "metadata": {},
   "outputs": [],
   "source": [
    "## Wipe Pixels\n",
    "\n",
    "def ErasePixels():\n",
    "    for i in range(0,10):\n",
    "        np[i] = (0,0,0)\n",
    "        np.write()\n",
    "        time.sleep(.2)\n",
    "        \n",
    "ErasePixels()"
   ]
  },
  {
   "cell_type": "code",
   "execution_count": null,
   "metadata": {},
   "outputs": [],
   "source": [
    "## Create random colors on each LED!\n",
    "\n",
    "import math\n",
    "\n"
   ]
  },
  {
   "cell_type": "code",
   "execution_count": null,
   "metadata": {},
   "outputs": [],
   "source": [
    "## Create dimmer random colors on each LED... Backwards!\n",
    "\n",
    "while True:\n",
    "    for i in range(10,0, -1):\n",
    "        np[i-1] = (randint(0,150),randint(0,150),randint(0,150))\n",
    "        np.write()\n",
    "        time.sleep(.2)"
   ]
  },
  {
   "cell_type": "code",
   "execution_count": null,
   "metadata": {},
   "outputs": [],
   "source": [
    "import utime\n",
    "ChristmasColors = [(255, 0, 0), (0, 255, 0), (255, 0, 0), (0, 255, 0)]\n",
    "AllColors = [(255, 0, 0), (0, 255, 0), (255, 255, 255), (0, 0, 255)]\n",
    "WhiteBlue = [(255, 255, 255), (0, 0, 255), (255, 255, 255), (0, 0, 255)]\n",
    "while True:\n",
    "    for i in range(0,10):\n",
    "        np[i] = AllColors[randint(0,4)]\n",
    "        np.write()\n",
    "        utime.sleep_ms(10)"
   ]
  },
  {
   "cell_type": "code",
   "execution_count": null,
   "metadata": {},
   "outputs": [],
   "source": [
    "## Make a racing animation!\n",
    "\n",
    "while True:\n",
    "    for i in range(0,10):\n",
    "        np[i] = WhiteBlue[randint(0,4)]\n",
    "        np[i-1] = (0,0,0)\n",
    "        np.write()\n",
    "        utime.sleep_ms(200)"
   ]
  },
  {
   "cell_type": "code",
   "execution_count": null,
   "metadata": {},
   "outputs": [],
   "source": [
    "## Double Racing animation\n",
    "\n",
    "while True:\n",
    "    for i in range(0,10):\n",
    "        np[i] = ChristmasColors[randint(0,4)]\n",
    "        np[i-1] = WhiteBlue[randint(0,4)]\n",
    "        np[i-2] = (0,0,0)\n",
    "        np.write()\n",
    "        time.sleep(.1)"
   ]
  },
  {
   "cell_type": "code",
   "execution_count": null,
   "metadata": {},
   "outputs": [],
   "source": [
    "## ALL\n",
    "\n",
    "ChristmasColors = [(255, 0, 0), (0, 255, 0), (255, 0, 0), (0, 255, 0)]\n",
    "AllColors = [(255, 0, 0), (0, 255, 0), (255, 255, 255), (0, 0, 255)]\n",
    "WhiteBlue = [(255, 255, 255), (0, 0, 255), (255, 255, 255), (0, 0, 255)]\n",
    "\n",
    "while True:\n",
    "    for i in range(5):\n",
    "        for i in range(0,10):\n",
    "            np[i] = ChristmasColors[randint(0,4)]\n",
    "            np[i-1] = WhiteBlue[randint(0,4)]\n",
    "            np[i-2] = (0,0,0)\n",
    "            np.write()\n",
    "            utime.sleep_ms(80)\n",
    "    for i in range(5):\n",
    "        for i in range(0,10):\n",
    "            np[i] = WhiteBlue[randint(0,4)]\n",
    "            np[i-1] = (0,0,0)\n",
    "            np.write()\n",
    "            utime.sleep_ms(80)\n",
    "    for i in range(5):\n",
    "        for i in range(0,10):\n",
    "            np[i] = AllColors[randint(0,4)]\n",
    "            np.write()\n",
    "            utime.sleep_ms(80)  \n",
    "    for i in range(5):\n",
    "        for i in range(0,10):\n",
    "             np[i] = (randint(0,255),randint(0,255),randint(0,255))\n",
    "             np.write()\n",
    "             utime.sleep_ms(80)           \n",
    "            \n"
   ]
  },
  {
   "cell_type": "code",
   "execution_count": null,
   "metadata": {},
   "outputs": [],
   "source": [
    "## More vivid random colors\n",
    "        \n",
    "while True:\n",
    "    for i in range(0, 10):\n",
    "        x = randint(0, 100)\n",
    "        colors = [0, int(255*math.cos(x)), int(255*math.sin(x))]\n",
    "        r = colors.pop(randint(0, len(colors)))\n",
    "        g = colors.pop(randint(0, len(colors)))\n",
    "        b = colors.pop()\n",
    "        np[i] = (r, g, b)\n",
    "        np.write()\n",
    "        time.sleep(.01)\n",
    "    "
   ]
  },
  {
   "cell_type": "code",
   "execution_count": null,
   "metadata": {},
   "outputs": [],
   "source": []
  }
 ],
 "metadata": {
  "kernelspec": {
   "display_name": "MicroPython - USB",
   "language": "micropython",
   "name": "micropython"
  },
  "language_info": {
   "codemirror_mode": "python",
   "file_extension": ".py",
   "mimetype": "text/python",
   "name": "micropython"
  }
 },
 "nbformat": 4,
 "nbformat_minor": 2
}
